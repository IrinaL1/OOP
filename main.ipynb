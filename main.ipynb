{
 "cells": [
  {
   "cell_type": "code",
   "execution_count": null,
   "id": "820839a3",
   "metadata": {},
   "outputs": [],
   "source": [
    "import ctypes\n",
    "lib = ctypes.CDLL('./lib.so')\n",
    "lib.create_timetable.argtypes = [ctypes.c_char_p]\n",
    "lib.create_timetable.restype = ctypes.c_void_p\n",
    "lib.print_timetable.argtypes = [ctypes.c_void_p]\n",
    "a = ctypes.create_string_buffer(str.encode('./airports.txt'))\n",
    "t = lib.create_timetable(a)\n",
    "lib.print_timetable(t)"
   ]
  },
  {
   "cell_type": "code",
   "execution_count": null,
   "id": "7c8d56d0",
   "metadata": {},
   "outputs": [],
   "source": []
  }
 ],
 "metadata": {
  "kernelspec": {
   "display_name": "Python 3 (ipykernel)",
   "language": "python",
   "name": "python3"
  },
  "language_info": {
   "codemirror_mode": {
    "name": "ipython",
    "version": 3
   },
   "file_extension": ".py",
   "mimetype": "text/x-python",
   "name": "python",
   "nbconvert_exporter": "python",
   "pygments_lexer": "ipython3",
   "version": "3.9.7"
  }
 },
 "nbformat": 4,
 "nbformat_minor": 5
}
